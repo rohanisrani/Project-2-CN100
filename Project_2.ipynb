{
  "nbformat": 4,
  "nbformat_minor": 0,
  "metadata": {
    "colab": {
      "name": "Project 2",
      "provenance": []
    },
    "kernelspec": {
      "name": "python3",
      "display_name": "Python 3"
    },
    "language_info": {
      "name": "python"
    }
  },
  "cells": [
    {
      "cell_type": "code",
      "metadata": {
        "colab": {
          "base_uri": "https://localhost:8080/"
        },
        "id": "gU_Sao7ykWOu",
        "outputId": "f0648110-ed28-4314-9e73-4af2dc49da3b"
      },
      "source": [
        "# Brute Force Method\n",
        "\n",
        "#------------------------------------------------------------\n",
        "# Declaring Variables\n",
        "# Store Inputs for num1 and num2 in variables \n",
        "# Convert to integers since input stores strings\n",
        "num1 = int (input(print(\"Enter Number One\")))\n",
        "num2 = int (input(print(\"Enter Number Two\")))\n",
        "#------------------------------------------------------------\n",
        "\n",
        "#------------------------------------------------------------\n",
        "# Defining Function for calculation\n",
        "\n",
        "def gcf(x, y):\n",
        "\n",
        "# This if statement determines the smaller number\n",
        "    if x > y:\n",
        "        smaller = y\n",
        "    else:\n",
        "        smaller = x\n",
        "\n",
        "# This is the logic and math behind finding gcf\n",
        "    for i in range(1, smaller+1):\n",
        "        if((x % i == 0) and (y % i == 0)):\n",
        "            gcf = i \n",
        "    return gcf\n",
        "#------------------------------------------------------------\n",
        "  \n",
        "\n",
        "print(\"The G.C.F. is\", gcf(num1, num2))"
      ],
      "execution_count": 1,
      "outputs": [
        {
          "output_type": "stream",
          "text": [
            "Enter Number One\n",
            "5\n",
            "Enter Number Two\n",
            "10\n",
            "The G.C.F. is 5\n"
          ],
          "name": "stdout"
        }
      ]
    },
    {
      "cell_type": "code",
      "metadata": {
        "colab": {
          "base_uri": "https://localhost:8080/"
        },
        "id": "XAHzylvOqR5h",
        "outputId": "4c2b0d49-6ad2-4872-d570-2c889685e28c"
      },
      "source": [
        "# Euclidean Algorithm\n",
        "\n",
        "#------------------------------------------------------------\n",
        "# Declaring Variables\n",
        "# Store Inputs for num1 and num2 in variables \n",
        "# Convert to integers since input stores strings\n",
        "num1 = int (input(print(\"Enter Number One\")))\n",
        "num2 = int (input(print(\"Enter Number Two\")))\n",
        "#------------------------------------------------------------\n",
        "\n",
        "def gcf2(x, y):\n",
        "   while(y):\n",
        "       x, y = y, x % y\n",
        "   return x\n",
        "\n",
        "gcf = gcf2(num1, num2)\n",
        "print(\"The HCF is\", gcf)"
      ],
      "execution_count": null,
      "outputs": [
        {
          "output_type": "stream",
          "text": [
            "Enter Number One\n",
            "100\n",
            "Enter Number Two\n",
            "10\n",
            "The HCF is 10\n"
          ],
          "name": "stdout"
        }
      ]
    }
  ]
}